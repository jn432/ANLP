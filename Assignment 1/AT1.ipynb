{
 "cells": [
  {
   "cell_type": "markdown",
   "id": "e4bc3a6b-35ae-402c-a543-531fdad9525c",
   "metadata": {},
   "source": [
    "# 1. Load Dataset"
   ]
  },
  {
   "cell_type": "code",
   "execution_count": 4,
   "id": "abe134a8-d551-4d1c-b057-8b409fad25ad",
   "metadata": {},
   "outputs": [],
   "source": [
    "# https://www.geeksforgeeks.org/how-to-read-all-csv-files-in-a-folder-in-pandas/\n",
    "# https://stackoverflow.com/questions/8369219/how-can-i-read-a-text-file-into-a-string-variable-and-strip-newlines\n",
    "# https://stackoverflow.com/questions/10715965/create-a-pandas-dataframe-by-appending-one-row-at-a-time/10716007#10716007\n",
    "\n",
    "import pandas as pd\n",
    "import os\n",
    "import glob\n",
    "\n",
    "# use glob to get all the txt files in the folder \n",
    "path = os.getcwd() + '\\\\Datasets'\n",
    "# added -plain to avoid the text description\n",
    "text_files = glob.glob(os.path.join(path, \"*-plain.txt\"))"
   ]
  },
  {
   "cell_type": "code",
   "execution_count": 64,
   "id": "96978255-29ca-4967-8a54-ad19c7a4907e",
   "metadata": {},
   "outputs": [],
   "source": [
    "def append_row(df, row):\n",
    "    return pd.concat([\n",
    "                df, \n",
    "                pd.DataFrame([row], columns=row.index)]\n",
    "           ).reset_index(drop=True)\n",
    "\n",
    "df = pd.DataFrame(columns=('lib', 'qty1', 'qty2'))\n",
    "\n",
    "\n"
   ]
  },
  {
   "cell_type": "code",
   "execution_count": 80,
   "id": "277f8ad7-60ff-4acb-874b-cbbc5a6febca",
   "metadata": {},
   "outputs": [],
   "source": [
    "# Declare a dataframe\n",
    "df = pd.DataFrame(columns=['Station', 'Text'])\n",
    "\n",
    "for file in text_files:\n",
    "    # Get the radio station\n",
    "    radio_station = file.split('\\\\Datasets\\\\')[1].split('-plain.txt')[0][:-1]\n",
    "\n",
    "    # Get the text data\n",
    "    with open(file, 'r') as f:\n",
    "        text = f.read().replace('\\n', ' ')\n",
    "\n",
    "    # Declare a new row to append\n",
    "    new_row = pd.Series({\n",
    "        'Station':radio_station,\n",
    "        'Text':text,\n",
    "    })\n",
    "\n",
    "    # Save text into dataframe\n",
    "    df = append_row(df, new_row)"
   ]
  },
  {
   "cell_type": "code",
   "execution_count": 86,
   "id": "464195b9-d4a5-4eaf-b5a5-631e4bd38a50",
   "metadata": {},
   "outputs": [
    {
     "data": {
      "text/html": [
       "<div>\n",
       "<style scoped>\n",
       "    .dataframe tbody tr th:only-of-type {\n",
       "        vertical-align: middle;\n",
       "    }\n",
       "\n",
       "    .dataframe tbody tr th {\n",
       "        vertical-align: top;\n",
       "    }\n",
       "\n",
       "    .dataframe thead th {\n",
       "        text-align: right;\n",
       "    }\n",
       "</style>\n",
       "<table border=\"1\" class=\"dataframe\">\n",
       "  <thead>\n",
       "    <tr style=\"text-align: right;\">\n",
       "      <th></th>\n",
       "      <th>Station</th>\n",
       "      <th>Text</th>\n",
       "    </tr>\n",
       "  </thead>\n",
       "  <tbody>\n",
       "    <tr>\n",
       "      <th>0</th>\n",
       "      <td>ABCE</td>\n",
       "      <td>Thanks for that John Hall now John Hall will ...</td>\n",
       "    </tr>\n",
       "    <tr>\n",
       "      <th>1</th>\n",
       "      <td>ABCE</td>\n",
       "      <td>Ah look l Les Pete. .  Simon.  G'day Peto.  S...</td>\n",
       "    </tr>\n",
       "    <tr>\n",
       "      <th>2</th>\n",
       "      <td>ABCE</td>\n",
       "      <td>If you haven't been with us before this how i...</td>\n",
       "    </tr>\n",
       "    <tr>\n",
       "      <th>3</th>\n",
       "      <td>ABCE</td>\n",
       "      <td>Uh blue-tongues'd be  unlikely to eat them be...</td>\n",
       "    </tr>\n",
       "    <tr>\n",
       "      <th>4</th>\n",
       "      <td>ABCNE</td>\n",
       "      <td>A very good afternoon to you Roly.  Good afte...</td>\n",
       "    </tr>\n",
       "    <tr>\n",
       "      <th>5</th>\n",
       "      <td>ABCNE</td>\n",
       "      <td>And Greg Kerrin is my guest. Hello Greg.  G'd...</td>\n",
       "    </tr>\n",
       "    <tr>\n",
       "      <th>6</th>\n",
       "      <td>COME</td>\n",
       "      <td>Good morning and welcome to another Two G B w...</td>\n",
       "    </tr>\n",
       "    <tr>\n",
       "      <th>7</th>\n",
       "      <td>COME</td>\n",
       "      <td>Good morning everyone and welcome to a very f...</td>\n",
       "    </tr>\n",
       "    <tr>\n",
       "      <th>8</th>\n",
       "      <td>COME</td>\n",
       "      <td>The doctor is in the lines are open one-three...</td>\n",
       "    </tr>\n",
       "    <tr>\n",
       "      <th>9</th>\n",
       "      <td>COME</td>\n",
       "      <td>Morning Mark.   Uh uh good morning John. Um t...</td>\n",
       "    </tr>\n",
       "  </tbody>\n",
       "</table>\n",
       "</div>"
      ],
      "text/plain": [
       "  Station                                               Text\n",
       "0    ABCE   Thanks for that John Hall now John Hall will ...\n",
       "1    ABCE   Ah look l Les Pete. .  Simon.  G'day Peto.  S...\n",
       "2    ABCE   If you haven't been with us before this how i...\n",
       "3    ABCE   Uh blue-tongues'd be  unlikely to eat them be...\n",
       "4   ABCNE   A very good afternoon to you Roly.  Good afte...\n",
       "5   ABCNE   And Greg Kerrin is my guest. Hello Greg.  G'd...\n",
       "6    COME   Good morning and welcome to another Two G B w...\n",
       "7    COME   Good morning everyone and welcome to a very f...\n",
       "8    COME   The doctor is in the lines are open one-three...\n",
       "9    COME   Morning Mark.   Uh uh good morning John. Um t..."
      ]
     },
     "execution_count": 86,
     "metadata": {},
     "output_type": "execute_result"
    }
   ],
   "source": [
    "# Verify correct loading of data\n",
    "df.head(10)"
   ]
  },
  {
   "cell_type": "code",
   "execution_count": 55,
   "id": "34b0c0c4-31c1-41c5-b32c-81af6fa1e938",
   "metadata": {},
   "outputs": [
    {
     "name": "stdout",
     "output_type": "stream",
     "text": [
      "ABCE\n"
     ]
    }
   ],
   "source": [
    "# Some notes...\n",
    "# Already can see some australian slang - G'day appears in a few text files already\n",
    "# Much more casual language sometimes\n",
    "# Data is unbalanced - some stations more represented than others - how to deal with it?\n"
   ]
  },
  {
   "cell_type": "code",
   "execution_count": 42,
   "id": "e5511cb4-f806-498d-bb4d-cc923d87b708",
   "metadata": {},
   "outputs": [
    {
     "data": {
      "text/plain": [
       "'ABCNE'"
      ]
     },
     "execution_count": 42,
     "metadata": {},
     "output_type": "execute_result"
    }
   ],
   "source": [
    "text"
   ]
  }
 ],
 "metadata": {
  "kernelspec": {
   "display_name": "Python 3 (ipykernel)",
   "language": "python",
   "name": "python3"
  },
  "language_info": {
   "codemirror_mode": {
    "name": "ipython",
    "version": 3
   },
   "file_extension": ".py",
   "mimetype": "text/x-python",
   "name": "python",
   "nbconvert_exporter": "python",
   "pygments_lexer": "ipython3",
   "version": "3.10.14"
  }
 },
 "nbformat": 4,
 "nbformat_minor": 5
}
