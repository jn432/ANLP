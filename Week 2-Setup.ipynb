{
 "cells": [
  {
   "cell_type": "code",
   "execution_count": null,
   "id": "319263f5-4b7a-4986-922f-80d82b94fcad",
   "metadata": {},
   "outputs": [],
   "source": [
    "# Github setup and testing\n",
    "# https://annefou.github.io/jupyter_publish/02-git/index.html"
   ]
  },
  {
   "cell_type": "code",
   "execution_count": null,
   "id": "7faf4cd5-0a36-4204-bce4-008135897db6",
   "metadata": {},
   "outputs": [],
   "source": [
    "import pandas as pd\n",
    "import numpy as np"
   ]
  },
  {
   "cell_type": "code",
   "execution_count": null,
   "id": "4d9c2ffc-9a48-4371-85ba-2887a9694082",
   "metadata": {},
   "outputs": [],
   "source": []
  }
 ],
 "metadata": {
  "kernelspec": {
   "display_name": "Python 3 (ipykernel)",
   "language": "python",
   "name": "python3"
  },
  "language_info": {
   "codemirror_mode": {
    "name": "ipython",
    "version": 3
   },
   "file_extension": ".py",
   "mimetype": "text/x-python",
   "name": "python",
   "nbconvert_exporter": "python",
   "pygments_lexer": "ipython3",
   "version": "3.10.14"
  }
 },
 "nbformat": 4,
 "nbformat_minor": 5
}
