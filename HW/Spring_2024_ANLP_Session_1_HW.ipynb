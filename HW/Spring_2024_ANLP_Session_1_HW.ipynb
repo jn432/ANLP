{
 "cells": [
  {
   "cell_type": "markdown",
   "metadata": {
    "id": "8AhFOUj6iCWG"
   },
   "source": [
    "# Basics of Natural Language Processing (NLP)Take Home Exercise #\n",
    "\n"
   ]
  },
  {
   "cell_type": "markdown",
   "metadata": {
    "id": "zwEukFd8AJE7"
   },
   "source": [
    "Use the following link to find open source data sets to complete take-home exercises.\n",
    "\n",
    "[Data Sets](https://opendatascience.com/20-open-datasets-for-natural-language-processing/)"
   ]
  },
  {
   "cell_type": "markdown",
   "metadata": {
    "id": "fxBFGZ8DadFp"
   },
   "source": [
    "# Run this code in the beginning to limit the output size of the cells"
   ]
  },
  {
   "cell_type": "code",
   "execution_count": 4,
   "metadata": {
    "id": "8HBE7ck1XPX_"
   },
   "outputs": [],
   "source": [
    " from IPython.display import display, Javascript\n",
    "\n",
    "def resize_colab_cell():\n",
    "  # Change the maxHeight variable to change the max height of the output\n",
    "   display(Javascript('google.colab.output.setIframeHeight(0, true, {maxHeight: 400})'))\n",
    "  #Change output size for the entire notebook (set to call function on cell run)\n",
    "   get_ipython().events.register('pre_run_cell', resize_colab_cell)"
   ]
  },
  {
   "cell_type": "code",
   "execution_count": 5,
   "metadata": {
    "id": "ER80G_dwRkij"
   },
   "outputs": [],
   "source": [
    "import pandas as pd\n",
    "questions = pd.read_csv(\"Datasets/JEOPARDY_CSV.csv\")"
   ]
  },
  {
   "cell_type": "code",
   "execution_count": 6,
   "metadata": {},
   "outputs": [
    {
     "data": {
      "text/html": [
       "<div>\n",
       "<style scoped>\n",
       "    .dataframe tbody tr th:only-of-type {\n",
       "        vertical-align: middle;\n",
       "    }\n",
       "\n",
       "    .dataframe tbody tr th {\n",
       "        vertical-align: top;\n",
       "    }\n",
       "\n",
       "    .dataframe thead th {\n",
       "        text-align: right;\n",
       "    }\n",
       "</style>\n",
       "<table border=\"1\" class=\"dataframe\">\n",
       "  <thead>\n",
       "    <tr style=\"text-align: right;\">\n",
       "      <th></th>\n",
       "      <th>Show Number</th>\n",
       "      <th>Air Date</th>\n",
       "      <th>Round</th>\n",
       "      <th>Category</th>\n",
       "      <th>Value</th>\n",
       "      <th>Question</th>\n",
       "      <th>Answer</th>\n",
       "    </tr>\n",
       "  </thead>\n",
       "  <tbody>\n",
       "    <tr>\n",
       "      <th>0</th>\n",
       "      <td>4680</td>\n",
       "      <td>2004-12-31</td>\n",
       "      <td>Jeopardy!</td>\n",
       "      <td>HISTORY</td>\n",
       "      <td>$200</td>\n",
       "      <td>For the last 8 years of his life, Galileo was ...</td>\n",
       "      <td>Copernicus</td>\n",
       "    </tr>\n",
       "    <tr>\n",
       "      <th>1</th>\n",
       "      <td>4680</td>\n",
       "      <td>2004-12-31</td>\n",
       "      <td>Jeopardy!</td>\n",
       "      <td>ESPN's TOP 10 ALL-TIME ATHLETES</td>\n",
       "      <td>$200</td>\n",
       "      <td>No. 2: 1912 Olympian; football star at Carlisl...</td>\n",
       "      <td>Jim Thorpe</td>\n",
       "    </tr>\n",
       "    <tr>\n",
       "      <th>2</th>\n",
       "      <td>4680</td>\n",
       "      <td>2004-12-31</td>\n",
       "      <td>Jeopardy!</td>\n",
       "      <td>EVERYBODY TALKS ABOUT IT...</td>\n",
       "      <td>$200</td>\n",
       "      <td>The city of Yuma in this state has a record av...</td>\n",
       "      <td>Arizona</td>\n",
       "    </tr>\n",
       "    <tr>\n",
       "      <th>3</th>\n",
       "      <td>4680</td>\n",
       "      <td>2004-12-31</td>\n",
       "      <td>Jeopardy!</td>\n",
       "      <td>THE COMPANY LINE</td>\n",
       "      <td>$200</td>\n",
       "      <td>In 1963, live on \"The Art Linkletter Show\", th...</td>\n",
       "      <td>McDonald's</td>\n",
       "    </tr>\n",
       "    <tr>\n",
       "      <th>4</th>\n",
       "      <td>4680</td>\n",
       "      <td>2004-12-31</td>\n",
       "      <td>Jeopardy!</td>\n",
       "      <td>EPITAPHS &amp; TRIBUTES</td>\n",
       "      <td>$200</td>\n",
       "      <td>Signer of the Dec. of Indep., framer of the Co...</td>\n",
       "      <td>John Adams</td>\n",
       "    </tr>\n",
       "  </tbody>\n",
       "</table>\n",
       "</div>"
      ],
      "text/plain": [
       "   Show Number    Air Date      Round                         Category Value  \\\n",
       "0         4680  2004-12-31  Jeopardy!                          HISTORY  $200   \n",
       "1         4680  2004-12-31  Jeopardy!  ESPN's TOP 10 ALL-TIME ATHLETES  $200   \n",
       "2         4680  2004-12-31  Jeopardy!      EVERYBODY TALKS ABOUT IT...  $200   \n",
       "3         4680  2004-12-31  Jeopardy!                 THE COMPANY LINE  $200   \n",
       "4         4680  2004-12-31  Jeopardy!              EPITAPHS & TRIBUTES  $200   \n",
       "\n",
       "                                            Question      Answer  \n",
       "0  For the last 8 years of his life, Galileo was ...  Copernicus  \n",
       "1  No. 2: 1912 Olympian; football star at Carlisl...  Jim Thorpe  \n",
       "2  The city of Yuma in this state has a record av...     Arizona  \n",
       "3  In 1963, live on \"The Art Linkletter Show\", th...  McDonald's  \n",
       "4  Signer of the Dec. of Indep., framer of the Co...  John Adams  "
      ]
     },
     "execution_count": 6,
     "metadata": {},
     "output_type": "execute_result"
    }
   ],
   "source": [
    "questions.head()"
   ]
  },
  {
   "cell_type": "code",
   "execution_count": 7,
   "metadata": {},
   "outputs": [
    {
     "data": {
      "text/html": [
       "<div>\n",
       "<style scoped>\n",
       "    .dataframe tbody tr th:only-of-type {\n",
       "        vertical-align: middle;\n",
       "    }\n",
       "\n",
       "    .dataframe tbody tr th {\n",
       "        vertical-align: top;\n",
       "    }\n",
       "\n",
       "    .dataframe thead th {\n",
       "        text-align: right;\n",
       "    }\n",
       "</style>\n",
       "<table border=\"1\" class=\"dataframe\">\n",
       "  <thead>\n",
       "    <tr style=\"text-align: right;\">\n",
       "      <th></th>\n",
       "      <th>Show Number</th>\n",
       "      <th>Air Date</th>\n",
       "      <th>Round</th>\n",
       "      <th>Category</th>\n",
       "      <th>Value</th>\n",
       "      <th>Question</th>\n",
       "      <th>Answer</th>\n",
       "    </tr>\n",
       "  </thead>\n",
       "  <tbody>\n",
       "    <tr>\n",
       "      <th>149244</th>\n",
       "      <td>779</td>\n",
       "      <td>1988-01-14</td>\n",
       "      <td>Jeopardy!</td>\n",
       "      <td>REPUBLICANS</td>\n",
       "      <td>$300</td>\n",
       "      <td>This Tennessean replaced Donald Regan as Reaga...</td>\n",
       "      <td>Howard Baker</td>\n",
       "    </tr>\n",
       "    <tr>\n",
       "      <th>198173</th>\n",
       "      <td>3041</td>\n",
       "      <td>1997-11-17</td>\n",
       "      <td>Double Jeopardy!</td>\n",
       "      <td>DEMOCRATS</td>\n",
       "      <td>$1,500</td>\n",
       "      <td>This Ohioan is flying high as the ranking Demo...</td>\n",
       "      <td>John Glenn</td>\n",
       "    </tr>\n",
       "    <tr>\n",
       "      <th>192559</th>\n",
       "      <td>4313</td>\n",
       "      <td>2003-05-07</td>\n",
       "      <td>Double Jeopardy!</td>\n",
       "      <td>DOGGY BAG</td>\n",
       "      <td>$800</td>\n",
       "      <td>These keg-carriers were once known simply as h...</td>\n",
       "      <td>Saint Bernards</td>\n",
       "    </tr>\n",
       "    <tr>\n",
       "      <th>12838</th>\n",
       "      <td>3780</td>\n",
       "      <td>2001-01-26</td>\n",
       "      <td>Double Jeopardy!</td>\n",
       "      <td>HOW DOES YOUR GARDEN GROW?</td>\n",
       "      <td>$1000</td>\n",
       "      <td>This fertilizer element was leached out of woo...</td>\n",
       "      <td>Potassium</td>\n",
       "    </tr>\n",
       "    <tr>\n",
       "      <th>132560</th>\n",
       "      <td>2972</td>\n",
       "      <td>1997-07-01</td>\n",
       "      <td>Jeopardy!</td>\n",
       "      <td>THE BIBLE</td>\n",
       "      <td>$100</td>\n",
       "      <td>The Lord's Prayer says, \"And lead us not into ...</td>\n",
       "      <td>Deliver us from evil</td>\n",
       "    </tr>\n",
       "    <tr>\n",
       "      <th>144198</th>\n",
       "      <td>5811</td>\n",
       "      <td>2009-12-14</td>\n",
       "      <td>Double Jeopardy!</td>\n",
       "      <td>PORTRAIT OF A LADY</td>\n",
       "      <td>$800</td>\n",
       "      <td>Aptly, her name translates as \"a beautiful wom...</td>\n",
       "      <td>Nefertiti</td>\n",
       "    </tr>\n",
       "    <tr>\n",
       "      <th>55908</th>\n",
       "      <td>5673</td>\n",
       "      <td>2009-04-15</td>\n",
       "      <td>Jeopardy!</td>\n",
       "      <td>MOVIES ANY TIME</td>\n",
       "      <td>$600</td>\n",
       "      <td>Attila the Hun &amp; Sacajawea are characters in t...</td>\n",
       "      <td>Night at the Museum</td>\n",
       "    </tr>\n",
       "    <tr>\n",
       "      <th>27580</th>\n",
       "      <td>3738</td>\n",
       "      <td>2000-11-29</td>\n",
       "      <td>Jeopardy!</td>\n",
       "      <td>\"TRIPLE\" JEOPARDY!</td>\n",
       "      <td>$200</td>\n",
       "      <td>Tantalizing variety of lunch seen here: (Dagwo...</td>\n",
       "      <td>Triple-decker sandwich</td>\n",
       "    </tr>\n",
       "    <tr>\n",
       "      <th>161950</th>\n",
       "      <td>5395</td>\n",
       "      <td>2008-02-08</td>\n",
       "      <td>Jeopardy!</td>\n",
       "      <td>AFRICAN HISTORY</td>\n",
       "      <td>$800</td>\n",
       "      <td>In 1498 this Portuguese explorer rounded South...</td>\n",
       "      <td>(Vasco) da Gama</td>\n",
       "    </tr>\n",
       "    <tr>\n",
       "      <th>168616</th>\n",
       "      <td>2932</td>\n",
       "      <td>1997-05-06</td>\n",
       "      <td>Double Jeopardy!</td>\n",
       "      <td>POTPOURRI</td>\n",
       "      <td>$400</td>\n",
       "      <td>The dromedary type of this mammal has 1 hump; ...</td>\n",
       "      <td>Camel</td>\n",
       "    </tr>\n",
       "  </tbody>\n",
       "</table>\n",
       "</div>"
      ],
      "text/plain": [
       "        Show Number    Air Date             Round                    Category  \\\n",
       "149244          779  1988-01-14         Jeopardy!                 REPUBLICANS   \n",
       "198173         3041  1997-11-17  Double Jeopardy!                   DEMOCRATS   \n",
       "192559         4313  2003-05-07  Double Jeopardy!                   DOGGY BAG   \n",
       "12838          3780  2001-01-26  Double Jeopardy!  HOW DOES YOUR GARDEN GROW?   \n",
       "132560         2972  1997-07-01         Jeopardy!                   THE BIBLE   \n",
       "144198         5811  2009-12-14  Double Jeopardy!          PORTRAIT OF A LADY   \n",
       "55908          5673  2009-04-15         Jeopardy!             MOVIES ANY TIME   \n",
       "27580          3738  2000-11-29         Jeopardy!          \"TRIPLE\" JEOPARDY!   \n",
       "161950         5395  2008-02-08         Jeopardy!             AFRICAN HISTORY   \n",
       "168616         2932  1997-05-06  Double Jeopardy!                   POTPOURRI   \n",
       "\n",
       "         Value                                           Question  \\\n",
       "149244    $300  This Tennessean replaced Donald Regan as Reaga...   \n",
       "198173  $1,500  This Ohioan is flying high as the ranking Demo...   \n",
       "192559    $800  These keg-carriers were once known simply as h...   \n",
       "12838    $1000  This fertilizer element was leached out of woo...   \n",
       "132560    $100  The Lord's Prayer says, \"And lead us not into ...   \n",
       "144198    $800  Aptly, her name translates as \"a beautiful wom...   \n",
       "55908     $600  Attila the Hun & Sacajawea are characters in t...   \n",
       "27580     $200  Tantalizing variety of lunch seen here: (Dagwo...   \n",
       "161950    $800  In 1498 this Portuguese explorer rounded South...   \n",
       "168616    $400  The dromedary type of this mammal has 1 hump; ...   \n",
       "\n",
       "                        Answer  \n",
       "149244            Howard Baker  \n",
       "198173              John Glenn  \n",
       "192559          Saint Bernards  \n",
       "12838                Potassium  \n",
       "132560    Deliver us from evil  \n",
       "144198               Nefertiti  \n",
       "55908      Night at the Museum  \n",
       "27580   Triple-decker sandwich  \n",
       "161950         (Vasco) da Gama  \n",
       "168616                   Camel  "
      ]
     },
     "execution_count": 7,
     "metadata": {},
     "output_type": "execute_result"
    }
   ],
   "source": [
    "# sample by default gets 1 random row\n",
    "questions.sample(10)"
   ]
  },
  {
   "cell_type": "code",
   "execution_count": 8,
   "metadata": {
    "id": "n8WSsfmTj8en"
   },
   "outputs": [
    {
     "name": "stdout",
     "output_type": "stream",
     "text": [
      "He was born in Norwich, Connecticut in 1741 & died in London in 1801\n"
     ]
    },
    {
     "data": {
      "text/plain": [
       "14"
      ]
     },
     "execution_count": 8,
     "metadata": {},
     "output_type": "execute_result"
    }
   ],
   "source": [
    "s = questions['Question'][149342]\n",
    "print(s)\n",
    "\n",
    "len(s.split())"
   ]
  },
  {
   "cell_type": "markdown",
   "metadata": {
    "id": "UI_3GXkzn5U9"
   },
   "source": [
    "### 2. Basic Analysis\n",
    "\n",
    "Perform basic text analysis on the collected text using Spacy ([spacy.io](http://spacy.io)) library. Try different string manipulations."
   ]
  },
  {
   "cell_type": "code",
   "execution_count": 10,
   "metadata": {},
   "outputs": [],
   "source": [
    "import spacy\n",
    "nlp = spacy.load(\"en_core_web_sm\")"
   ]
  },
  {
   "cell_type": "code",
   "execution_count": 11,
   "metadata": {},
   "outputs": [],
   "source": [
    "#Process text\n",
    "doc = nlp(s)"
   ]
  },
  {
   "cell_type": "code",
   "execution_count": 12,
   "metadata": {},
   "outputs": [
    {
     "name": "stdout",
     "output_type": "stream",
     "text": [
      "Entity: Norwich, Label: GPE\n",
      "Entity: Connecticut, Label: GPE\n",
      "Entity: 1741, Label: DATE\n",
      "Entity: London, Label: GPE\n",
      "Entity: 1801, Label: DATE\n"
     ]
    }
   ],
   "source": [
    "#Extract entities\n",
    "\n",
    "for entity in doc.ents:\n",
    "    print(f\"Entity: {entity.text}, Label: {entity.label_}\")"
   ]
  },
  {
   "cell_type": "markdown",
   "metadata": {
    "id": "fER49EQBRZlS"
   },
   "source": [
    "### 3. Tokenizer\n",
    "Create a custom tokenizer in Python that handles:\n",
    "*   Contractions (e.g., \"don't\" → \"do n't\")\n",
    "*   Keeps punctuation as separate tokens\n",
    "*   Splits hyphenated words (e.g., \"state-of-the-art\" → \"state of the art\")\n",
    "\n",
    "Compare its results with NLTK's word_tokenize on any sample paragraph and the following examples:\n",
    "\"New York-based company\", \"It's a beautiful day!\", \"https://www.example.com\"\n",
    "\n",
    "What differences do you see? What are the advantages, and limitations of each approach?"
   ]
  },
  {
   "cell_type": "code",
   "execution_count": 14,
   "metadata": {},
   "outputs": [],
   "source": [
    "# https://stackoverflow.com/questions/4998629/split-string-with-multiple-delimiters-in-python\n",
    "# https://www.geeksforgeeks.org/python-split-string-on-all-punctuations/\n",
    "# https://stackoverflow.com/questions/14576158/how-to-tokenize-contractions-in-python\n",
    "import re\n",
    "\n",
    "def custom_tokenize(string_to_split):\n",
    "    # Regex pattern splits on substrings \" \" and \"-\"\n",
    "    #split_string = re.split(' |-', string_to_split)\n",
    "    \n",
    "    # Replace '-' with white space\n",
    "    processed_string = string_to_split.replace('-', ' ')\n",
    "\n",
    "    #processed_string = re.findall(r\"\\w+(?=n't)|n't|\\w+(?=')|'\\w+|\\w+\", processed_string)\n",
    "    \n",
    "    # using findall() to get all regex matches. \n",
    "    processed_string = re.findall( r'\\w+|[^\\s\\w]+', processed_string)\n",
    "    return processed_string"
   ]
  },
  {
   "cell_type": "code",
   "execution_count": 15,
   "metadata": {},
   "outputs": [
    {
     "name": "stdout",
     "output_type": "stream",
     "text": [
      "['He', 'was', 'born', 'in', 'Norwich', ',', 'Connecticut', 'in', '1741', '&', 'died', 'in', 'London', 'in', '1801']\n",
      "['New', 'York', 'based', 'company']\n",
      "['It', \"'\", 's', 'a', 'beautiful', 'day', '!']\n",
      "['https', '://', 'www', '.', 'example', '.', 'com']\n"
     ]
    }
   ],
   "source": [
    "print(custom_tokenize(s))\n",
    "print(custom_tokenize(\"New York-based company\"))\n",
    "print(custom_tokenize(\"It's a beautiful day!\"))\n",
    "print(custom_tokenize(\"https://www.example.com\"))"
   ]
  },
  {
   "cell_type": "code",
   "execution_count": 16,
   "metadata": {},
   "outputs": [
    {
     "name": "stdout",
     "output_type": "stream",
     "text": [
      "['He', 'was', 'born', 'in', 'Norwich', ',', 'Connecticut', 'in', '1741', '&', 'died', 'in', 'London', 'in', '1801']\n",
      "['New', 'York-based', 'company']\n",
      "['It', \"'s\", 'a', 'beautiful', 'day', '!']\n",
      "['https', ':', '//www.example.com']\n"
     ]
    }
   ],
   "source": [
    "from nltk.tokenize import word_tokenize\n",
    "print(word_tokenize(s))\n",
    "print(word_tokenize(\"New York-based company\"))\n",
    "print(word_tokenize(\"It's a beautiful day!\"))\n",
    "print(word_tokenize(\"https://www.example.com\"))"
   ]
  },
  {
   "cell_type": "markdown",
   "metadata": {
    "id": "iQSBeMtujknV"
   },
   "source": [
    "### 4. Regex\n",
    "\n",
    "Try writing your own RegEx that can capture citations in text E.g. (Horning, 2022)"
   ]
  },
  {
   "cell_type": "code",
   "execution_count": 18,
   "metadata": {
    "id": "iI5xT7o8Rlcf"
   },
   "outputs": [],
   "source": [
    "sample_text = 'This is a sample reference (Horning, 2022). There is another reference(Shibani, 2024) located here.'"
   ]
  },
  {
   "cell_type": "code",
   "execution_count": 19,
   "metadata": {},
   "outputs": [
    {
     "data": {
      "text/plain": [
       "['(Horning, 2022). There is another reference(Shibani, 2024)']"
      ]
     },
     "execution_count": 19,
     "metadata": {},
     "output_type": "execute_result"
    }
   ],
   "source": [
    "# Current best\n",
    "re.findall('\\(.*\\)', sample_text)"
   ]
  },
  {
   "cell_type": "code",
   "execution_count": 20,
   "metadata": {},
   "outputs": [
    {
     "data": {
      "text/plain": [
       "['2022', '2024']"
      ]
     },
     "execution_count": 20,
     "metadata": {},
     "output_type": "execute_result"
    }
   ],
   "source": [
    "# Got all the dates\n",
    "re.findall('\\d\\d\\d\\d', sample_text)"
   ]
  },
  {
   "cell_type": "code",
   "execution_count": 21,
   "metadata": {},
   "outputs": [
    {
     "data": {
      "text/plain": [
       "['(Horning, 2022)', '(Shibani, 2024)']"
      ]
     },
     "execution_count": 21,
     "metadata": {},
     "output_type": "execute_result"
    }
   ],
   "source": [
    "# Use \\s for space(renembember your C++ carriage returns, tabs, etc)\n",
    "# \\d{4} means 4 digits\n",
    "# use .*? to get shortest, not .* alone!\n",
    "\n",
    "re.findall('\\(.*?,\\s\\d{4}\\)', sample_text)"
   ]
  },
  {
   "cell_type": "markdown",
   "metadata": {
    "id": "DCuiR4kZCp32"
   },
   "source": [
    "Extract URLS following a certain format (www. or http or https:// ..)"
   ]
  },
  {
   "cell_type": "code",
   "execution_count": 23,
   "metadata": {},
   "outputs": [],
   "source": [
    "sample_url_text = 'This is a sample url https://www.google.com located here. Another link - http://www.google.com. A third(www.uts.edu.au)'"
   ]
  },
  {
   "cell_type": "code",
   "execution_count": 24,
   "metadata": {
    "id": "V49uczwjCyd_"
   },
   "outputs": [
    {
     "data": {
      "text/plain": [
       "[('https', '://www.google', '.com'),\n",
       " ('http', '://www.google', '.com'),\n",
       " ('www', '.uts.edu', '.au')]"
      ]
     },
     "execution_count": 24,
     "metadata": {},
     "output_type": "execute_result"
    }
   ],
   "source": [
    "# Can definitely improve on this\n",
    "re.findall('(https?|www)(.*?)(.com|.au)', sample_url_text)"
   ]
  },
  {
   "cell_type": "markdown",
   "metadata": {
    "id": "tBIAVwtV_cvw"
   },
   "source": [
    "### 5. Word Frequency\n",
    "\n",
    "Find the list of words that occur more than 10 times in a selected corpus.\n",
    "\n",
    "Try using different forms of setup: no stopwords, custom stopwords, not removing punctuation, etc. and see what difference in results they produce.\n"
   ]
  },
  {
   "cell_type": "code",
   "execution_count": 26,
   "metadata": {
    "id": "tNK4qAHUFUxT"
   },
   "outputs": [],
   "source": [
    "# converting series to string\n",
    "text = questions['Question'].to_string()"
   ]
  },
  {
   "cell_type": "code",
   "execution_count": 27,
   "metadata": {},
   "outputs": [],
   "source": [
    "from collections import Counter\n",
    "\n",
    "topic_words = [ z.lower() for y in\n",
    "                [ x.split() for x in questions['Question'] if isinstance(x, str)]\n",
    "                for z in y]\n",
    "word_count_dict = dict(Counter(topic_words))\n",
    "popular_words = sorted(word_count_dict, key = word_count_dict.get, reverse = True)"
   ]
  },
  {
   "cell_type": "code",
   "execution_count": 28,
   "metadata": {},
   "outputs": [
    {
     "data": {
      "text/plain": [
       "Counter({'for': 35855,\n",
       "         'the': 170363,\n",
       "         'last': 2654,\n",
       "         'years': 2638,\n",
       "         'of': 112756,\n",
       "         'his': 16911,\n",
       "         'was': 29149,\n",
       "         'under': 1416,\n",
       "         'house': 1476,\n",
       "         'this': 123422,\n",
       "         'no.': 1436,\n",
       "         'star': 1472,\n",
       "         'at': 12405,\n",
       "         'with': 17502,\n",
       "         '&': 45040,\n",
       "         'city': 5471,\n",
       "         'in': 102022,\n",
       "         'state': 4140,\n",
       "         'has': 6005,\n",
       "         'a': 86696,\n",
       "         'year': 1543,\n",
       "         'on': 25643,\n",
       "         '\"the': 9327,\n",
       "         'company': 1579,\n",
       "         'its': 8656,\n",
       "         'president': 2707,\n",
       "         'title': 3932,\n",
       "         'an': 12884,\n",
       "         'to': 50657,\n",
       "         'south': 1722,\n",
       "         \"it's\": 12348,\n",
       "         'use': 1277,\n",
       "         'named': 5650,\n",
       "         'first': 10010,\n",
       "         'we': 1714,\n",
       "         'from': 19420,\n",
       "         'it': 14278,\n",
       "         'i': 4688,\n",
       "         'take': 1069,\n",
       "         'island': 2083,\n",
       "         'now': 2123,\n",
       "         'known': 3841,\n",
       "         'if': 3352,\n",
       "         'you': 9870,\n",
       "         'he': 14631,\n",
       "         'began': 1274,\n",
       "         'that': 14108,\n",
       "         'had': 3796,\n",
       "         'one': 12171,\n",
       "         'by': 15949,\n",
       "         'and': 5308,\n",
       "         'whose': 1941,\n",
       "         'name': 10612,\n",
       "         'is': 33585,\n",
       "         'not': 4530,\n",
       "         'small': 1106,\n",
       "         'or': 10051,\n",
       "         'might': 1347,\n",
       "         'be': 6506,\n",
       "         'little': 1392,\n",
       "         'these': 13464,\n",
       "         'just': 1933,\n",
       "         'country': 4295,\n",
       "         'man': 3691,\n",
       "         'are': 8286,\n",
       "         'your': 4074,\n",
       "         'time': 1842,\n",
       "         'these,': 1149,\n",
       "         'than': 2569,\n",
       "         'into': 3495,\n",
       "         'founded': 1475,\n",
       "         'as': 16547,\n",
       "         'part': 2625,\n",
       "         'only': 3307,\n",
       "         'war': 2059,\n",
       "         '<a': 8416,\n",
       "         'when': 6215,\n",
       "         'can': 4855,\n",
       "         'place': 1234,\n",
       "         'him': 2807,\n",
       "         \"he's\": 1584,\n",
       "         'author': 1594,\n",
       "         'which': 3902,\n",
       "         'after': 4813,\n",
       "         'around': 1691,\n",
       "         'wrote': 2461,\n",
       "         'book': 2214,\n",
       "         'since': 1186,\n",
       "         '1': 2162,\n",
       "         '2': 5487,\n",
       "         'born': 2037,\n",
       "         'who': 6968,\n",
       "         'during': 1997,\n",
       "         'seen': 5023,\n",
       "         'made': 4058,\n",
       "         'king': 2134,\n",
       "         'good': 1078,\n",
       "         'largest': 1905,\n",
       "         'got': 1884,\n",
       "         'group': 1743,\n",
       "         'hit': 1910,\n",
       "         'top': 1150,\n",
       "         'like': 4886,\n",
       "         'between': 1645,\n",
       "         'new': 4739,\n",
       "         'more': 2305,\n",
       "         'used': 3980,\n",
       "         'will': 1476,\n",
       "         \"you'll\": 1086,\n",
       "         'find': 1024,\n",
       "         'called': 5435,\n",
       "         'this,': 2664,\n",
       "         'james': 1078,\n",
       "         '3': 2566,\n",
       "         'french': 2377,\n",
       "         'u.s.': 4762,\n",
       "         'have': 5121,\n",
       "         'been': 2376,\n",
       "         'also': 3692,\n",
       "         '4': 1433,\n",
       "         \"you're\": 1423,\n",
       "         '(<a': 4455,\n",
       "         \"i'm\": 1631,\n",
       "         'here': 2618,\n",
       "         'means': 2213,\n",
       "         'line': 1329,\n",
       "         'all': 2769,\n",
       "         'way': 1100,\n",
       "         'do': 1831,\n",
       "         'game': 1326,\n",
       "         'day': 1539,\n",
       "         'my': 2503,\n",
       "         'said': 2213,\n",
       "         'word': 3101,\n",
       "         '5': 1061,\n",
       "         'while': 1466,\n",
       "         'up': 3922,\n",
       "         'play': 1905,\n",
       "         'found': 1909,\n",
       "         '\"i': 1445,\n",
       "         'type': 4589,\n",
       "         'famous': 2456,\n",
       "         'family': 1256,\n",
       "         'school': 1128,\n",
       "         'include': 1406,\n",
       "         'york': 1214,\n",
       "         'world': 2181,\n",
       "         'series': 1419,\n",
       "         'target=\"_blank\">this</a>': 1581,\n",
       "         'see': 1063,\n",
       "         'water': 1122,\n",
       "         'were': 4246,\n",
       "         'capital': 2562,\n",
       "         'other': 1610,\n",
       "         'set': 1463,\n",
       "         'back': 1509,\n",
       "         \"don't\": 1430,\n",
       "         'clue': 4465,\n",
       "         'crew': 3820,\n",
       "         'over': 2855,\n",
       "         'character': 1634,\n",
       "         'white': 1302,\n",
       "         'won': 2451,\n",
       "         'big': 1428,\n",
       "         'old': 1641,\n",
       "         'went': 1049,\n",
       "         'comes': 1645,\n",
       "         'latin': 1576,\n",
       "         'out': 3120,\n",
       "         'became': 3158,\n",
       "         'she': 4674,\n",
       "         'died': 1273,\n",
       "         'her': 6174,\n",
       "         'once': 1817,\n",
       "         'john': 2308,\n",
       "         'both': 1198,\n",
       "         'says': 1180,\n",
       "         'novel': 2493,\n",
       "         'played': 2990,\n",
       "         'home': 2077,\n",
       "         'some': 2374,\n",
       "         'of\"': 1065,\n",
       "         'tv': 1724,\n",
       "         'movie': 1483,\n",
       "         'about': 5254,\n",
       "         'classic': 1174,\n",
       "         'british': 1927,\n",
       "         'show': 1917,\n",
       "         'make': 1978,\n",
       "         \"that's\": 1464,\n",
       "         'popular': 1270,\n",
       "         'major': 1030,\n",
       "         'most': 2629,\n",
       "         'century': 1605,\n",
       "         'know': 1328,\n",
       "         'so': 1883,\n",
       "         'because': 1230,\n",
       "         'term': 2829,\n",
       "         'film': 4154,\n",
       "         'created': 1018,\n",
       "         'us': 1038,\n",
       "         'st.': 1026,\n",
       "         'former': 1005,\n",
       "         '\"a': 1606,\n",
       "         'near': 1025,\n",
       "         'but': 4691,\n",
       "         'their': 2769,\n",
       "         'would': 1199,\n",
       "         'body': 1173,\n",
       "         'took': 1327,\n",
       "         'form': 1022,\n",
       "         'miles': 1108,\n",
       "         'off': 1604,\n",
       "         'museum': 1187,\n",
       "         'love': 1041,\n",
       "         'based': 1306,\n",
       "         'down': 1313,\n",
       "         'before': 2799,\n",
       "         'people': 1865,\n",
       "         'what': 1892,\n",
       "         'black': 1030,\n",
       "         'de': 1098,\n",
       "         'national': 1910,\n",
       "         'life': 1162,\n",
       "         'red': 1038,\n",
       "         'any': 1014,\n",
       "         \"country's\": 1129,\n",
       "         'gave': 1238,\n",
       "         'meaning': 1559,\n",
       "         'great': 1625,\n",
       "         'where': 1994,\n",
       "         'woman': 1451,\n",
       "         'number': 1230,\n",
       "         'sea': 1125,\n",
       "         'greek': 1657,\n",
       "         'they': 2279,\n",
       "         'work': 1577,\n",
       "         'university': 1132,\n",
       "         'get': 2087,\n",
       "         'them': 1493,\n",
       "         'target=\"_blank\">here</a>': 1937,\n",
       "         'may': 3086,\n",
       "         'many': 1989,\n",
       "         'george': 1060,\n",
       "         'long': 1172,\n",
       "         'west': 1055,\n",
       "         'north': 1370,\n",
       "         'river': 1791,\n",
       "         'german': 1025,\n",
       "         'reports': 1198,\n",
       "         'later': 1220,\n",
       "         'american': 2584,\n",
       "         'me': 1308,\n",
       "         'through': 1189,\n",
       "         'own': 1099,\n",
       "         'million': 1178,\n",
       "         'there': 1497,\n",
       "         'often': 1512,\n",
       "         'no': 1866,\n",
       "         'could': 1449,\n",
       "         'musical': 1202,\n",
       "         'go': 1154,\n",
       "         'best': 1199,\n",
       "         'song': 1817,\n",
       "         'english': 1173})"
      ]
     },
     "execution_count": 28,
     "metadata": {},
     "output_type": "execute_result"
    }
   ],
   "source": [
    "# Changed to 1000 because the set is huge\n",
    "# some stopwords required - 'the' for example... 'there's also quotation marks, need to remove those\n",
    "# https://stackoverflow.com/questions/15861739/removing-objects-whose-counts-are-less-than-threshold-in-counter\n",
    "Counter({k: c for k, c in word_count_dict.items() if c >= 1000})"
   ]
  },
  {
   "cell_type": "code",
   "execution_count": 29,
   "metadata": {},
   "outputs": [],
   "source": [
    "# let's remove stopwords first\n",
    "from nltk.corpus import stopwords\n",
    "#stopwords\n",
    "stop_words=stopwords.words(\"english\")"
   ]
  },
  {
   "cell_type": "code",
   "execution_count": 30,
   "metadata": {},
   "outputs": [],
   "source": [
    "#create word tokens\n",
    "tokenized_words=word_tokenize(text)"
   ]
  },
  {
   "cell_type": "code",
   "execution_count": 31,
   "metadata": {},
   "outputs": [],
   "source": [
    "#Create a new variable to store filtered tokens\n",
    "filtered_tokens=[]\n",
    "for w in tokenized_words:\n",
    "    if w not in stop_words:\n",
    "         #add all filtered tokens excluding stopwords in this list below\n",
    "         filtered_tokens.append(w)\n",
    "\n",
    "import string\n",
    "# punctuations\n",
    "punctuations=list(string.punctuation)\n",
    "#Add custom punctuations to the list\n",
    "punctuations.append(\"...\")\n",
    "\n",
    "#Create another variable to store all clean tokens\n",
    "filtered_tokens_clean=[]\n",
    "for i in filtered_tokens:\n",
    "    if i not in punctuations:\n",
    "        filtered_tokens_clean.append(i)"
   ]
  },
  {
   "cell_type": "code",
   "execution_count": 32,
   "metadata": {},
   "outputs": [],
   "source": [
    "word_count_dict_clean = dict(Counter(filtered_tokens_clean))"
   ]
  },
  {
   "cell_type": "code",
   "execution_count": 33,
   "metadata": {},
   "outputs": [
    {
     "data": {
      "text/plain": [
       "Counter({'For': 1171,\n",
       "         'last': 1341,\n",
       "         'years': 1056,\n",
       "         '1': 2043,\n",
       "         'No': 1232,\n",
       "         '2': 3847,\n",
       "         'The': 26990,\n",
       "         'city': 2668,\n",
       "         'state': 1962,\n",
       "         '3': 1866,\n",
       "         'In': 22865,\n",
       "         '``': 48990,\n",
       "         \"''\": 40384,\n",
       "         'th': 3521,\n",
       "         '4': 1259,\n",
       "         '5': 1015,\n",
       "         'title': 2136,\n",
       "         'This': 23402,\n",
       "         'named': 2560,\n",
       "         'first': 5501,\n",
       "         'I': 4914,\n",
       "         'On': 3338,\n",
       "         'company': 1000,\n",
       "         \"'s\": 33663,\n",
       "         'A': 11239,\n",
       "         'man': 2205,\n",
       "         'one': 4897,\n",
       "         'His': 1577,\n",
       "         'c': 1295,\n",
       "         'href=': 8355,\n",
       "         'http': 7975,\n",
       "         'It': 8553,\n",
       "         'He': 4446,\n",
       "         'author': 1071,\n",
       "         'wrote': 2105,\n",
       "         'book': 1246,\n",
       "         'When': 1768,\n",
       "         'seen': 2739,\n",
       "         'got': 1013,\n",
       "         'thi': 1272,\n",
       "         'hit': 1145,\n",
       "         \"'ll\": 1187,\n",
       "         'French': 1405,\n",
       "         'largest': 1046,\n",
       "         'If': 1823,\n",
       "         'part': 1195,\n",
       "         'name': 6339,\n",
       "         'word': 1941,\n",
       "         'You': 2506,\n",
       "         'These': 1217,\n",
       "         'type': 2336,\n",
       "         'made': 2068,\n",
       "         'f': 1394,\n",
       "         'whose': 1050,\n",
       "         'New': 1756,\n",
       "         'h': 1249,\n",
       "         'As': 1474,\n",
       "         'Of': 1192,\n",
       "         'U.S.': 2345,\n",
       "         'She': 1510,\n",
       "         'John': 1741,\n",
       "         'played': 1840,\n",
       "         'famous': 1174,\n",
       "         'also': 1417,\n",
       "         'called': 2336,\n",
       "         \"'re\": 1612,\n",
       "         'capital': 1286,\n",
       "         'said': 2088,\n",
       "         'w': 1492,\n",
       "         'One': 1579,\n",
       "         'play': 1112,\n",
       "         'b': 1192,\n",
       "         'After': 1354,\n",
       "         'film': 1906,\n",
       "         'became': 1809,\n",
       "         'At': 1354,\n",
       "         'country': 2176,\n",
       "         'says': 1384,\n",
       "         'TV': 1047,\n",
       "         'term': 1908,\n",
       "         'known': 1722,\n",
       "         \"n't\": 2868,\n",
       "         'group': 1022,\n",
       "         'From': 1875,\n",
       "         'means': 1116,\n",
       "         '--': 1386,\n",
       "         'An': 1786,\n",
       "         'American': 1434,\n",
       "         'may': 1283,\n",
       "         'used': 1934,\n",
       "         'British': 1077,\n",
       "         'novel': 1533,\n",
       "         'like': 1694,\n",
       "         'To': 2062,\n",
       "         'president': 1246,\n",
       "         'song': 1173,\n",
       "         'p': 1000})"
      ]
     },
     "execution_count": 33,
     "metadata": {},
     "output_type": "execute_result"
    }
   ],
   "source": [
    "Counter({k: c for k, c in word_count_dict_clean.items() if c >= 1000})\n",
    "# Looks like some major issues have happened, \"The\", \"For\" are still there. Need to lowercase before using it"
   ]
  },
  {
   "cell_type": "code",
   "execution_count": 34,
   "metadata": {},
   "outputs": [],
   "source": [
    "text_lower = text.lower()\n",
    "tokenized_words=word_tokenize(text_lower)\n",
    "\n",
    "#Create a new variable to store filtered tokens\n",
    "filtered_tokens=[]\n",
    "for w in tokenized_words:\n",
    "    if w not in stop_words:\n",
    "         #add all filtered tokens excluding stopwords in this list below\n",
    "         filtered_tokens.append(w)\n",
    "\n",
    "import string\n",
    "# punctuations\n",
    "punctuations=list(string.punctuation)\n",
    "#Add custom punctuations to the list\n",
    "punctuations.append(\"...\")\n",
    "\n",
    "#Create another variable to store all clean tokens\n",
    "filtered_tokens_clean=[]\n",
    "for i in filtered_tokens:\n",
    "    if i not in punctuations:\n",
    "        filtered_tokens_clean.append(i)\n",
    "\n",
    "word_count_dict_clean = dict(Counter(filtered_tokens_clean))"
   ]
  },
  {
   "cell_type": "code",
   "execution_count": 35,
   "metadata": {},
   "outputs": [
    {
     "data": {
      "text/plain": [
       "Counter({'last': 1739,\n",
       "         'years': 1103,\n",
       "         '1': 2038,\n",
       "         '2': 3843,\n",
       "         'star': 1106,\n",
       "         'city': 3187,\n",
       "         'state': 2476,\n",
       "         '3': 1861,\n",
       "         '``': 48990,\n",
       "         'show': 1057,\n",
       "         \"''\": 40384,\n",
       "         'th': 3684,\n",
       "         '4': 1256,\n",
       "         '5': 1014,\n",
       "         'title': 2312,\n",
       "         'named': 2831,\n",
       "         'first': 5949,\n",
       "         'company': 1105,\n",
       "         \"'s\": 33666,\n",
       "         'man': 2682,\n",
       "         'time': 1029,\n",
       "         'one': 6479,\n",
       "         'war': 1072,\n",
       "         'c': 1782,\n",
       "         'href=': 8355,\n",
       "         'http': 7975,\n",
       "         'author': 1131,\n",
       "         'wrote': 2114,\n",
       "         'book': 1462,\n",
       "         'born': 1519,\n",
       "         'seen': 3153,\n",
       "         'got': 1082,\n",
       "         'thi': 1287,\n",
       "         'hit': 1175,\n",
       "         'new': 2395,\n",
       "         \"'ll\": 1188,\n",
       "         'french': 1411,\n",
       "         'largest': 1056,\n",
       "         'part': 1354,\n",
       "         'name': 6535,\n",
       "         'island': 1092,\n",
       "         'word': 1985,\n",
       "         'type': 2477,\n",
       "         'made': 2164,\n",
       "         'f': 1617,\n",
       "         'whose': 1055,\n",
       "         'h': 1544,\n",
       "         'u.s.': 2406,\n",
       "         'old': 1026,\n",
       "         'world': 1543,\n",
       "         'john': 1741,\n",
       "         'played': 1869,\n",
       "         'home': 1127,\n",
       "         'famous': 1326,\n",
       "         'also': 1734,\n",
       "         'called': 2441,\n",
       "         \"'re\": 1614,\n",
       "         'capital': 1327,\n",
       "         'said': 2118,\n",
       "         'w': 1751,\n",
       "         'century': 1001,\n",
       "         'play': 1154,\n",
       "         'b': 1684,\n",
       "         'term': 2173,\n",
       "         'film': 1974,\n",
       "         'became': 1811,\n",
       "         'country': 2298,\n",
       "         'says': 1388,\n",
       "         'tv': 1047,\n",
       "         'people': 1065,\n",
       "         'known': 1917,\n",
       "         \"n't\": 2868,\n",
       "         'group': 1075,\n",
       "         'means': 1123,\n",
       "         'great': 1028,\n",
       "         'found': 1021,\n",
       "         '--': 1386,\n",
       "         'like': 2185,\n",
       "         'get': 1084,\n",
       "         'american': 1434,\n",
       "         'may': 1889,\n",
       "         'used': 2076,\n",
       "         'character': 1019,\n",
       "         'british': 1077,\n",
       "         'novel': 1558,\n",
       "         'many': 1042,\n",
       "         'president': 1606,\n",
       "         'song': 1309,\n",
       "         'king': 1484,\n",
       "         'p': 1274})"
      ]
     },
     "execution_count": 35,
     "metadata": {},
     "output_type": "execute_result"
    }
   ],
   "source": [
    "Counter({k: c for k, c in word_count_dict_clean.items() if c >= 1000})\n",
    "\n",
    "# Much better, I can see that some common words are things like city, state, company, first, years...\n",
    "# These git a gameshow more\n",
    "# punctuation should probably be removed as well\n",
    "# Notice that there's a http in there, not sure what's going on there"
   ]
  },
  {
   "cell_type": "code",
   "execution_count": null,
   "metadata": {},
   "outputs": [],
   "source": []
  }
 ],
 "metadata": {
  "colab": {
   "provenance": []
  },
  "kernelspec": {
   "display_name": "Python 3 (ipykernel)",
   "language": "python",
   "name": "python3"
  },
  "language_info": {
   "codemirror_mode": {
    "name": "ipython",
    "version": 3
   },
   "file_extension": ".py",
   "mimetype": "text/x-python",
   "name": "python",
   "nbconvert_exporter": "python",
   "pygments_lexer": "ipython3",
   "version": "3.10.14"
  }
 },
 "nbformat": 4,
 "nbformat_minor": 4
}
